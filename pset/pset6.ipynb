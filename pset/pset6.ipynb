{
 "cells": [
  {
   "cell_type": "code",
   "execution_count": 4,
   "metadata": {
    "collapsed": true
   },
   "outputs": [],
   "source": [
    "from scipy.linalg import hilbert\n",
    "from scipy.linalg import lu\n",
    "from numpy.linalg import det"
   ]
  },
  {
   "cell_type": "markdown",
   "metadata": {},
   "source": [
    " #31. The Hilbert matrix has $i,j$ entry equal to $1/(i+j-1)$. Print the determinants of $hilb(1), hilb(2), ..., hilb(10)$. Hilbert matrices are hard to work with!. What are the pivot of $hilb(5)$?"
   ]
  },
  {
   "cell_type": "code",
   "execution_count": 3,
   "metadata": {
    "collapsed": false
   },
   "outputs": [
    {
     "name": "stdout",
     "output_type": "stream",
     "text": [
      "1 1.0\n",
      "2 0.0833333333333\n",
      "3 0.000462962962963\n",
      "4 1.65343915344e-07\n",
      "5 3.74929513252e-12\n",
      "6 5.36729988715e-18\n",
      "7 4.83580262029e-25\n",
      "8 2.73705027477e-33\n",
      "9 9.72027514294e-43\n",
      "10 2.16445289041e-53\n"
     ]
    }
   ],
   "source": [
    "for i in range(1,11):\n",
    "    print(i, det(hilbert(i)))"
   ]
  },
  {
   "cell_type": "code",
   "execution_count": 6,
   "metadata": {
    "collapsed": false
   },
   "outputs": [
    {
     "data": {
      "text/plain": [
       "array([[  1.00000000e+00,   5.00000000e-01,   3.33333333e-01,\n",
       "          2.50000000e-01,   2.00000000e-01],\n",
       "       [  0.00000000e+00,   8.33333333e-02,   8.88888889e-02,\n",
       "          8.33333333e-02,   7.61904762e-02],\n",
       "       [  0.00000000e+00,   0.00000000e+00,  -5.55555556e-03,\n",
       "         -8.33333333e-03,  -9.52380952e-03],\n",
       "       [  0.00000000e+00,   0.00000000e+00,   0.00000000e+00,\n",
       "          7.14285714e-04,   1.45124717e-03],\n",
       "       [  0.00000000e+00,   0.00000000e+00,   0.00000000e+00,\n",
       "          0.00000000e+00,  -1.13378685e-05]])"
      ]
     },
     "execution_count": 6,
     "metadata": {},
     "output_type": "execute_result"
    }
   ],
   "source": [
    "P,L,U = lu(hilbert(5))\n",
    "U"
   ]
  },
  {
   "cell_type": "code",
   "execution_count": 8,
   "metadata": {
    "collapsed": false
   },
   "outputs": [
    {
     "name": "stdout",
     "output_type": "stream",
     "text": [
      "1.0\n",
      "0.0833333333333\n",
      "-0.00555555555556\n",
      "0.000714285714286\n",
      "-1.13378684807e-05\n"
     ]
    }
   ],
   "source": [
    "for i in range(5):\n",
    "    for j in range(5):\n",
    "        if i == j:\n",
    "            print(U[i,j])"
   ]
  },
  {
   "cell_type": "markdown",
   "metadata": {},
   "source": [
    "#32. What is a typical determinant (experimentally) of $rand(n)$ and $randn(n)$ for $n=50, 100, 200, 400$? (And what does \"$Inf$\" mean in MATLAB?)"
   ]
  },
  {
   "cell_type": "code",
   "execution_count": 13,
   "metadata": {
    "collapsed": true
   },
   "outputs": [],
   "source": [
    "import numpy as np"
   ]
  },
  {
   "cell_type": "code",
   "execution_count": 15,
   "metadata": {
    "collapsed": false
   },
   "outputs": [
    {
     "data": {
      "text/plain": [
       "[-149762.37640284348,\n",
       " -15272.201015386257,\n",
       " 585046.72709105641,\n",
       " 1452699.5994166308,\n",
       " -18702.558771910946,\n",
       " 435084.52687597595,\n",
       " 42015.909251223951,\n",
       " 3218078.8818684896,\n",
       " 293863.7112555441,\n",
       " 307599.33224637056]"
      ]
     },
     "execution_count": 15,
     "metadata": {},
     "output_type": "execute_result"
    }
   ],
   "source": [
    "[det(np.random.uniform(0.0, 1.0, size = (50,50))) for i in range(10)]"
   ]
  },
  {
   "cell_type": "code",
   "execution_count": 16,
   "metadata": {
    "collapsed": false
   },
   "outputs": [
    {
     "data": {
      "text/plain": [
       "[-7.3559167436489307e+24,\n",
       " -1.4644671823752887e+25,\n",
       " 1.7012591948390852e+25,\n",
       " 1.1560515325528861e+26,\n",
       " 1.4361990048096452e+25,\n",
       " 3.9659976976627701e+25,\n",
       " -4.3823067761134729e+24,\n",
       " 7.8317336369983707e+25,\n",
       " 1.4991624784713501e+26,\n",
       " 9.9715203613112192e+23]"
      ]
     },
     "execution_count": 16,
     "metadata": {},
     "output_type": "execute_result"
    }
   ],
   "source": [
    "[det(np.random.uniform(0.0, 1.0, size = (100,100))) for i in range(10)]"
   ]
  },
  {
   "cell_type": "code",
   "execution_count": 17,
   "metadata": {
    "collapsed": false
   },
   "outputs": [
    {
     "data": {
      "text/plain": [
       "[1.4497200940371695e+79,\n",
       " -9.1838615205798207e+77,\n",
       " -4.2898050096465439e+79,\n",
       " 3.6331649254312424e+80,\n",
       " 2.4637446955701377e+79,\n",
       " 5.7401115210882921e+78,\n",
       " -4.5784415065560253e+79,\n",
       " -3.2687123118237813e+79,\n",
       " -1.1605580697654078e+77,\n",
       " 4.7873887624202142e+79]"
      ]
     },
     "execution_count": 17,
     "metadata": {},
     "output_type": "execute_result"
    }
   ],
   "source": [
    "[det(np.random.uniform(0.0, 1.0, size = (200,200))) for i in range(10)]"
   ]
  },
  {
   "cell_type": "code",
   "execution_count": 18,
   "metadata": {
    "collapsed": false
   },
   "outputs": [
    {
     "data": {
      "text/plain": [
       "[2.3360415267629807e+218,\n",
       " -5.5741590830516592e+219,\n",
       " 1.0045572919141772e+218,\n",
       " 7.6782531803249227e+216,\n",
       " -1.2883840686105254e+219,\n",
       " -1.2522150015453409e+217,\n",
       " -4.3397478921614334e+218,\n",
       " -1.8231975140801024e+220,\n",
       " -2.0581335391541429e+219,\n",
       " -6.3292793288089083e+217]"
      ]
     },
     "execution_count": 18,
     "metadata": {},
     "output_type": "execute_result"
    }
   ],
   "source": [
    "[det(np.random.uniform(0.0, 1.0, size = (400,400))) for i in range(10)]"
   ]
  },
  {
   "cell_type": "code",
   "execution_count": 19,
   "metadata": {
    "collapsed": false
   },
   "outputs": [
    {
     "data": {
      "text/plain": [
       "[9.8865782564207103e+30,\n",
       " -8.8397011002732169e+30,\n",
       " -1.5412786912030674e+30,\n",
       " 2.5758202912931002e+31,\n",
       " 4.6564352039091582e+30,\n",
       " -9.5889538285359703e+29,\n",
       " 2.2493906483516899e+31,\n",
       " -1.6362683561341494e+30,\n",
       " -1.3849027426212816e+31,\n",
       " 1.6882881370747116e+31]"
      ]
     },
     "execution_count": 19,
     "metadata": {},
     "output_type": "execute_result"
    }
   ],
   "source": [
    "[det(np.random.normal(0.0, 1.0, size = (50,50))) for i in range(10)]"
   ]
  },
  {
   "cell_type": "code",
   "execution_count": 20,
   "metadata": {
    "collapsed": false
   },
   "outputs": [
    {
     "data": {
      "text/plain": [
       "[5.0606709838082418e+79,\n",
       " -1.1308289448544293e+79,\n",
       " -2.4694271141280124e+78,\n",
       " 1.6355210969084441e+78,\n",
       " -5.4352417656618216e+77,\n",
       " -3.3539050220919598e+79,\n",
       " 2.3692360859802943e+79,\n",
       " 4.7287786613236439e+78,\n",
       " 9.0792635191062001e+77,\n",
       " -8.9070605225443356e+77]"
      ]
     },
     "execution_count": 20,
     "metadata": {},
     "output_type": "execute_result"
    }
   ],
   "source": [
    "[det(np.random.normal(0.0, 1.0, size = (100,100))) for i in range(10)]"
   ]
  },
  {
   "cell_type": "code",
   "execution_count": 21,
   "metadata": {
    "collapsed": false
   },
   "outputs": [
    {
     "data": {
      "text/plain": [
       "[-1.3654651506164185e+186,\n",
       " -4.9384322188762623e+185,\n",
       " 2.8531668552218156e+184,\n",
       " -4.3905878734110354e+186,\n",
       " -2.1943978694782267e+185,\n",
       " -1.2686646061470456e+186,\n",
       " 3.3917037973463138e+185,\n",
       " -1.6751003090966703e+186,\n",
       " -2.1872562147632852e+185,\n",
       " -2.7630772090662896e+185]"
      ]
     },
     "execution_count": 21,
     "metadata": {},
     "output_type": "execute_result"
    }
   ],
   "source": [
    "[det(np.random.normal(0.0, 1.0, size = (200,200))) for i in range(10)]"
   ]
  },
  {
   "cell_type": "code",
   "execution_count": 22,
   "metadata": {
    "collapsed": false
   },
   "outputs": [
    {
     "name": "stderr",
     "output_type": "stream",
     "text": [
      "/Users/megan/anaconda3/envs/devenv/lib/python3.4/site-packages/numpy/linalg/linalg.py:1776: RuntimeWarning: overflow encountered in det\n",
      "  r = _umath_linalg.det(a, signature=signature)\n"
     ]
    },
    {
     "data": {
      "text/plain": [
       "[-inf, inf, -inf, -inf, inf, inf, inf, inf, -inf, -inf]"
      ]
     },
     "execution_count": 22,
     "metadata": {},
     "output_type": "execute_result"
    }
   ],
   "source": [
    "[det(np.random.normal(0.0, 1.0, size = (400,400))) for i in range(10)]"
   ]
  },
  {
   "cell_type": "code",
   "execution_count": null,
   "metadata": {
    "collapsed": true
   },
   "outputs": [],
   "source": []
  }
 ],
 "metadata": {
  "kernelspec": {
   "display_name": "Python 3",
   "language": "python",
   "name": "python3"
  },
  "language_info": {
   "codemirror_mode": {
    "name": "ipython",
    "version": 3
   },
   "file_extension": ".py",
   "mimetype": "text/x-python",
   "name": "python",
   "nbconvert_exporter": "python",
   "pygments_lexer": "ipython3",
   "version": "3.4.5"
  }
 },
 "nbformat": 4,
 "nbformat_minor": 2
}
