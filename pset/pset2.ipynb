{
 "cells": [
  {
   "cell_type": "code",
   "execution_count": 10,
   "metadata": {
    "collapsed": true
   },
   "outputs": [],
   "source": [
    "from scipy.linalg import toeplitz\n",
    "import scipy.linalg as la\n",
    "import numpy as np"
   ]
  },
  {
   "cell_type": "code",
   "execution_count": 5,
   "metadata": {
    "collapsed": false
   },
   "outputs": [
    {
     "data": {
      "text/plain": [
       "array([[ 2, -1,  0,  0,  0,  0],\n",
       "       [-1,  2, -1,  0,  0,  0],\n",
       "       [ 0, -1,  2, -1,  0,  0],\n",
       "       [ 0,  0, -1,  2, -1,  0],\n",
       "       [ 0,  0,  0, -1,  2, -1],\n",
       "       [ 0,  0,  0,  0, -1,  2]])"
      ]
     },
     "execution_count": 5,
     "metadata": {},
     "output_type": "execute_result"
    }
   ],
   "source": [
    "#create a 6 by 6 second difference constant-diagonal matrix K\n",
    "K = toeplitz([2,-1,0,0,0,0])\n",
    "K"
   ]
  },
  {
   "cell_type": "code",
   "execution_count": 6,
   "metadata": {
    "collapsed": true
   },
   "outputs": [],
   "source": [
    "# get the LU decomposition of K\n",
    "P,L,U = la.lu(K)"
   ]
  },
  {
   "cell_type": "code",
   "execution_count": 14,
   "metadata": {
    "collapsed": false
   },
   "outputs": [
    {
     "name": "stdout",
     "output_type": "stream",
     "text": [
      "[[ 1.          0.          0.          0.          0.          0.        ]\n",
      " [-0.5         1.          0.          0.          0.          0.        ]\n",
      " [ 0.         -0.66666667  1.          0.          0.          0.        ]\n",
      " [ 0.          0.         -0.75        1.          0.          0.        ]\n",
      " [ 0.          0.          0.         -0.8         1.          0.        ]\n",
      " [ 0.          0.          0.          0.         -0.83333333  1.        ]]\n"
     ]
    }
   ],
   "source": [
    "print(L)"
   ]
  },
  {
   "cell_type": "code",
   "execution_count": 15,
   "metadata": {
    "collapsed": false
   },
   "outputs": [
    {
     "name": "stdout",
     "output_type": "stream",
     "text": [
      "[[ 1.         -0.         -0.         -0.         -0.         -0.        ]\n",
      " [ 0.5         1.         -0.          0.         -0.         -0.        ]\n",
      " [ 0.33333333  0.66666667  1.         -0.          0.          0.        ]\n",
      " [ 0.25        0.5         0.75        1.         -0.          0.        ]\n",
      " [ 0.2         0.4         0.6         0.8         1.         -0.        ]\n",
      " [ 0.16666667  0.33333333  0.5         0.66666667  0.83333333  1.        ]]\n"
     ]
    }
   ],
   "source": [
    "#inverse of L\n",
    "print(np.linalg.inv(L))"
   ]
  },
  {
   "cell_type": "markdown",
   "metadata": {},
   "source": [
    "The parttern is for $i < j$, the $ij^{th}$ entry = $i/j$"
   ]
  },
  {
   "cell_type": "code",
   "execution_count": 16,
   "metadata": {
    "collapsed": false
   },
   "outputs": [
    {
     "name": "stdout",
     "output_type": "stream",
     "text": [
      "[[ 0.85714286  0.71428571  0.57142857  0.42857143  0.28571429  0.14285714]\n",
      " [ 0.71428571  1.42857143  1.14285714  0.85714286  0.57142857  0.28571429]\n",
      " [ 0.57142857  1.14285714  1.71428571  1.28571429  0.85714286  0.42857143]\n",
      " [ 0.42857143  0.85714286  1.28571429  1.71428571  1.14285714  0.57142857]\n",
      " [ 0.28571429  0.57142857  0.85714286  1.14285714  1.42857143  0.71428571]\n",
      " [ 0.14285714  0.28571429  0.42857143  0.57142857  0.71428571  0.85714286]]\n"
     ]
    }
   ],
   "source": [
    "print(np.linalg.inv(K))"
   ]
  },
  {
   "cell_type": "code",
   "execution_count": 17,
   "metadata": {
    "collapsed": false
   },
   "outputs": [
    {
     "name": "stdout",
     "output_type": "stream",
     "text": [
      "[[  6.   5.   4.   3.   2.   1.]\n",
      " [  5.  10.   8.   6.   4.   2.]\n",
      " [  4.   8.  12.   9.   6.   3.]\n",
      " [  3.   6.   9.  12.   8.   4.]\n",
      " [  2.   4.   6.   8.  10.   5.]\n",
      " [  1.   2.   3.   4.   5.   6.]]\n"
     ]
    }
   ],
   "source": [
    "# 7 * inverse of K\n",
    "print(7 * np.linalg.inv(K))"
   ]
  },
  {
   "cell_type": "code",
   "execution_count": 20,
   "metadata": {
    "collapsed": false
   },
   "outputs": [
    {
     "name": "stdout",
     "output_type": "stream",
     "text": [
      "[[  7.00000000e+00   0.00000000e+00   0.00000000e+00   0.00000000e+00\n",
      "    0.00000000e+00   0.00000000e+00]\n",
      " [ -1.77635684e-15   7.00000000e+00   0.00000000e+00   0.00000000e+00\n",
      "    1.77635684e-15   8.88178420e-16]\n",
      " [  0.00000000e+00   0.00000000e+00   7.00000000e+00   0.00000000e+00\n",
      "   -3.55271368e-15  -1.77635684e-15]\n",
      " [  0.00000000e+00   0.00000000e+00   0.00000000e+00   7.00000000e+00\n",
      "    3.55271368e-15   1.77635684e-15]\n",
      " [  4.44089210e-16   8.88178420e-16   0.00000000e+00   0.00000000e+00\n",
      "    7.00000000e+00   1.77635684e-15]\n",
      " [  0.00000000e+00   0.00000000e+00   0.00000000e+00   1.77635684e-15\n",
      "    0.00000000e+00   7.00000000e+00]]\n"
     ]
    }
   ],
   "source": [
    "# (k)(7inv(k)) = 7I\n",
    "print(K.dot(7 * np.linalg.inv(K)))"
   ]
  },
  {
   "cell_type": "code",
   "execution_count": null,
   "metadata": {
    "collapsed": true
   },
   "outputs": [],
   "source": []
  }
 ],
 "metadata": {
  "kernelspec": {
   "display_name": "Python 3",
   "language": "python",
   "name": "python3"
  },
  "language_info": {
   "codemirror_mode": {
    "name": "ipython",
    "version": 3
   },
   "file_extension": ".py",
   "mimetype": "text/x-python",
   "name": "python",
   "nbconvert_exporter": "python",
   "pygments_lexer": "ipython3",
   "version": "3.4.5"
  }
 },
 "nbformat": 4,
 "nbformat_minor": 2
}
